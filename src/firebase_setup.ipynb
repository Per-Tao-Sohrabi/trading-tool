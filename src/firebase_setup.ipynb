{
 "cells": [
  {
   "cell_type": "code",
   "execution_count": 3,
   "metadata": {},
   "outputs": [
    {
     "data": {
      "text/plain": [
       "<firebase_admin.App at 0x10d17ade0>"
      ]
     },
     "execution_count": 3,
     "metadata": {},
     "output_type": "execute_result"
    }
   ],
   "source": [
    "import firebase_admin\n",
    "from firebase_admin import credentials, firestore\n",
    "\n",
    "# Load credentials JSON file\n",
    "cred = credentials.Certificate(\"/Users/pertao/playground/trading-tool/api-keys/web-scraper-demo-dd273-firebase-adminsdk-fbsvc-4520a74fff.json\")\n",
    "firebase_admin.initialize_app(cred)"
   ]
  },
  {
   "cell_type": "code",
   "execution_count": 4,
   "metadata": {},
   "outputs": [],
   "source": [
    "# Get Firestore database instance\n",
    "db = firestore.client()"
   ]
  },
  {
   "cell_type": "code",
   "execution_count": 8,
   "metadata": {},
   "outputs": [
    {
     "name": "stdout",
     "output_type": "stream",
     "text": [
      "Site added to Firestore!\n"
     ]
    }
   ],
   "source": [
    "# Add data to Firestore\n",
    "doc_ref = db.collection(\"sites\").document(\"riktkurser.se\")\n",
    "doc_ref.set({\n",
    "    \"site_name\": \"riktkurser\",\n",
    "    \"source_url\": \"https://www.riktkurs.nu/\",\n",
    "    \"base_url\": \"https://www.riktkurs.nu/\", # Can be the same as the source url or different. Is the base URL we want to add hrefs to. \n",
    "    \"key_words\": {\n",
    "    \"1\": [\"a\", \"LatestRecommendationsForStockPerRecommender\"],\n",
    "    \"0\": [\"a\", \"LatestRecommendationsForStockPerRecommender\"],\n",
    "    }\n",
    "})\n",
    "\n",
    "print(\"Site added to Firestore!\")"
   ]
  }
 ],
 "metadata": {
  "kernelspec": {
   "display_name": "trading-tool-env",
   "language": "python",
   "name": "python3"
  },
  "language_info": {
   "codemirror_mode": {
    "name": "ipython",
    "version": 3
   },
   "file_extension": ".py",
   "mimetype": "text/x-python",
   "name": "python",
   "nbconvert_exporter": "python",
   "pygments_lexer": "ipython3",
   "version": "3.12.4"
  }
 },
 "nbformat": 4,
 "nbformat_minor": 2
}
